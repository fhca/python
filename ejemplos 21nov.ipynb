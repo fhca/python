{
 "cells": [
  {
   "cell_type": "code",
   "execution_count": 6,
   "metadata": {},
   "outputs": [
    {
     "data": {
      "text/plain": [
       "'Poli quiere una galleta, Poli quiere una galleta, Poli quiere una galleta, '"
      ]
     },
     "execution_count": 6,
     "metadata": {},
     "output_type": "execute_result"
    }
   ],
   "source": [
    "\"Poli quiere una galleta, \" * 3"
   ]
  },
  {
   "cell_type": "code",
   "execution_count": 5,
   "metadata": {},
   "outputs": [
    {
     "data": {
      "text/plain": [
       "'**********'"
      ]
     },
     "execution_count": 5,
     "metadata": {},
     "output_type": "execute_result"
    }
   ],
   "source": [
    "\"*\"*10"
   ]
  },
  {
   "cell_type": "code",
   "execution_count": 10,
   "metadata": {},
   "outputs": [
    {
     "name": "stdout",
     "output_type": "stream",
     "text": [
      "**********\n",
      "terminé el renglón...\n",
      "**********\n",
      "terminé el renglón...\n",
      "**********\n",
      "terminé el renglón...\n",
      "**********\n",
      "terminé el renglón...\n",
      "**********\n",
      "terminé el renglón...\n",
      "**********\n",
      "terminé el renglón...\n",
      "**********\n",
      "terminé el renglón...\n"
     ]
    }
   ],
   "source": [
    "for lineas in range(7):\n",
    "    print(\"*\"*10)\n",
    "    print(\"terminé el renglón...\")"
   ]
  },
  {
   "cell_type": "code",
   "execution_count": 17,
   "metadata": {},
   "outputs": [
    {
     "name": "stdout",
     "output_type": "stream",
     "text": [
      "H\n",
      "a\n",
      "r\n",
      "r\n",
      "y\n",
      " \n",
      "P\n",
      "o\n",
      "t\n",
      "t\n",
      "e\n",
      "r\n",
      "Este cuento se acabó.\n"
     ]
    }
   ],
   "source": [
    "for letra in \"Harry Potter\":\n",
    "    print(letra)\n",
    "print(\"Este cuento se acabó.\")"
   ]
  },
  {
   "cell_type": "code",
   "execution_count": 33,
   "metadata": {},
   "outputs": [
    {
     "name": "stdout",
     "output_type": "stream",
     "text": [
      "3\n",
      "*\n",
      "1\n",
      "4\n",
      "1\n",
      "5\n",
      "9\n",
      "2\n"
     ]
    }
   ],
   "source": [
    "for digito in \"3.141592\":\n",
    "    if digito in \"0123456789\":\n",
    "        print(digito)\n",
    "    elif digito == '1':\n",
    "        print('uno')    # ERROR: por que no imprime esto????\n",
    "    elif digito == '5':\n",
    "        break\n",
    "        print(\"otras cosas\")\n",
    "    else:\n",
    "        print(\"*\")"
   ]
  },
  {
   "cell_type": "code",
   "execution_count": 37,
   "metadata": {},
   "outputs": [
    {
     "name": "stdout",
     "output_type": "stream",
     "text": [
      "3\n",
      "*\n",
      "uno\n",
      "4\n",
      "uno\n",
      "5\n",
      "9\n",
      "2\n"
     ]
    }
   ],
   "source": [
    "for digito in \"3.141592\":\n",
    "    if digito == '1':\n",
    "        print('uno')\n",
    "    elif digito in \"0123456789\":\n",
    "        print(digito)\n",
    "    elif digito == '5':\n",
    "        break\n",
    "        print(\"otras cosas\")\n",
    "    else:\n",
    "        print(\"*\")"
   ]
  },
  {
   "cell_type": "code",
   "execution_count": 40,
   "metadata": {},
   "outputs": [
    {
     "name": "stdout",
     "output_type": "stream",
     "text": [
      "3\n",
      "ahí vamos...\n",
      "*\n",
      "ahí vamos...\n",
      "uno\n",
      "ahí vamos...\n",
      "4\n",
      "ahí vamos...\n",
      "uno\n",
      "ahí vamos...\n",
      "9\n",
      "ahí vamos...\n",
      "2\n",
      "ahí vamos...\n"
     ]
    }
   ],
   "source": [
    "for digito in \"3.141592\":\n",
    "    if digito == '1':\n",
    "        print('uno')\n",
    "    elif digito == '5':\n",
    "        continue\n",
    "        print(\"otras cosas\")\n",
    "    elif digito in \"0123456789\":\n",
    "        print(digito)\n",
    "    else:\n",
    "        print(\"*\")\n",
    "    print(\"ahí vamos...\")"
   ]
  },
  {
   "cell_type": "code",
   "execution_count": 21,
   "metadata": {},
   "outputs": [
    {
     "data": {
      "text/plain": [
       "'3.1415923.141592'"
      ]
     },
     "execution_count": 21,
     "metadata": {},
     "output_type": "execute_result"
    }
   ],
   "source": [
    "\"3.141592\"*2"
   ]
  },
  {
   "cell_type": "code",
   "execution_count": 26,
   "metadata": {},
   "outputs": [
    {
     "data": {
      "text/plain": [
       "range(0, 7)"
      ]
     },
     "execution_count": 26,
     "metadata": {},
     "output_type": "execute_result"
    }
   ],
   "source": [
    "range(7)"
   ]
  },
  {
   "cell_type": "code",
   "execution_count": 28,
   "metadata": {},
   "outputs": [
    {
     "data": {
      "text/plain": [
       "range(0, 1000000000)"
      ]
     },
     "execution_count": 28,
     "metadata": {},
     "output_type": "execute_result"
    }
   ],
   "source": [
    "range(1000000000)"
   ]
  },
  {
   "cell_type": "code",
   "execution_count": 55,
   "metadata": {},
   "outputs": [
    {
     "name": "stdout",
     "output_type": "stream",
     "text": [
      "si lo encontré\n"
     ]
    }
   ],
   "source": [
    "cadena = \"Ese Carlos hace mucho ruido...\"\n",
    "\n",
    "# hacer el programa que diga \"si hay una hache\" o \"no hay una hache\"\n",
    "\n",
    "for letra in cadena:\n",
    "    if letra == '.':\n",
    "        print(\"si lo encontré\")\n",
    "        break\n",
    "else:\n",
    "    print(\"no lo encontré\")"
   ]
  },
  {
   "cell_type": "code",
   "execution_count": 56,
   "metadata": {},
   "outputs": [
    {
     "name": "stdout",
     "output_type": "stream",
     "text": [
      "si lo encontré\n"
     ]
    }
   ],
   "source": [
    "if 'h' in cadena:\n",
    "    print(\"si lo encontré\")\n",
    "else:\n",
    "    print(\"no lo encontré\")"
   ]
  },
  {
   "cell_type": "code",
   "execution_count": 57,
   "metadata": {},
   "outputs": [
    {
     "name": "stdout",
     "output_type": "stream",
     "text": [
      "0\n",
      "1\n",
      "2\n",
      "3\n",
      "4\n",
      "5\n",
      "6\n",
      "7\n",
      "8\n",
      "9\n"
     ]
    }
   ],
   "source": [
    "for digito in '0123456789':  # las cadenas son iterables\n",
    "    print(digito)"
   ]
  },
  {
   "cell_type": "code",
   "execution_count": 58,
   "metadata": {},
   "outputs": [
    {
     "name": "stdout",
     "output_type": "stream",
     "text": [
      "1\n",
      "2\n",
      "3\n",
      "4\n",
      "5\n",
      "6\n",
      "7\n",
      "8\n",
      "9\n",
      "0\n"
     ]
    }
   ],
   "source": [
    "for digito in [1,2,3,4,5,6,7,8,9,0]:  # las listas son iterables\n",
    "    print(digito)"
   ]
  },
  {
   "cell_type": "code",
   "execution_count": 59,
   "metadata": {},
   "outputs": [
    {
     "name": "stdout",
     "output_type": "stream",
     "text": [
      "1\n",
      "2\n",
      "3\n",
      "4\n",
      "5\n",
      "6\n",
      "7\n",
      "8\n",
      "9\n",
      "0\n"
     ]
    }
   ],
   "source": [
    "for digito in (1,2,3,4,5,6,7,8,9,0):  # las tuplas son iterables\n",
    "    print(digito)"
   ]
  },
  {
   "cell_type": "code",
   "execution_count": 67,
   "metadata": {},
   "outputs": [
    {
     "name": "stdout",
     "output_type": "stream",
     "text": [
      "la letra 'e' esta en la posición 1\n"
     ]
    }
   ],
   "source": [
    "cadena = \"Felipe\"\n",
    "\n",
    "for i in range(len(cadena)):\n",
    "    if cadena[i]=='e':\n",
    "        print(\"la letra 'e' esta en la posición\", i)\n",
    "        # break   # descomentar si solo queremos la primera"
   ]
  },
  {
   "cell_type": "code",
   "execution_count": 68,
   "metadata": {},
   "outputs": [
    {
     "name": "stdout",
     "output_type": "stream",
     "text": [
      "la letra 'e' esta en la posición 1\n",
      "la letra 'e' esta en la posición 5\n"
     ]
    }
   ],
   "source": [
    "for i, letra in enumerate(cadena):\n",
    "    if letra == 'e':\n",
    "        print(\"la letra 'e' esta en la posición\",i)"
   ]
  },
  {
   "cell_type": "code",
   "execution_count": 74,
   "metadata": {},
   "outputs": [
    {
     "data": {
      "text/plain": [
       "[(0, 'F'), (1, 'e'), (2, 'l'), (3, 'i'), (4, 'p'), (5, 'e')]"
      ]
     },
     "execution_count": 74,
     "metadata": {},
     "output_type": "execute_result"
    }
   ],
   "source": [
    "list(enumerate(cadena))"
   ]
  },
  {
   "cell_type": "code",
   "execution_count": 75,
   "metadata": {},
   "outputs": [
    {
     "name": "stdout",
     "output_type": "stream",
     "text": [
      "la letra 'e' esta en la posición 1\n",
      "la letra 'e' esta en la posición 5\n"
     ]
    }
   ],
   "source": [
    "# esto hace lo mismo que la instrucción de arriba, pero un poco más rápido\n",
    "# CON LA DESVENTAJA que ocupa mas memoria!!!\n",
    "for i, letra in [(0, 'F'), (1, 'e'), (2, 'l'), (3, 'i'), (4, 'p'), (5, 'e')]:\n",
    "    if letra == 'e':\n",
    "        print(\"la letra 'e' esta en la posición\",i)"
   ]
  },
  {
   "cell_type": "code",
   "execution_count": 76,
   "metadata": {},
   "outputs": [
    {
     "data": {
      "text/plain": [
       "['F', 'e', 'l', 'i', 'p', 'e']"
      ]
     },
     "execution_count": 76,
     "metadata": {},
     "output_type": "execute_result"
    }
   ],
   "source": [
    "list(cadena)"
   ]
  },
  {
   "cell_type": "code",
   "execution_count": 77,
   "metadata": {},
   "outputs": [
    {
     "ename": "TypeError",
     "evalue": "'float' object is not iterable",
     "output_type": "error",
     "traceback": [
      "\u001b[0;31m---------------------------------------------------------------------------\u001b[0m",
      "\u001b[0;31mTypeError\u001b[0m                                 Traceback (most recent call last)",
      "\u001b[0;32m<ipython-input-77-949ed286944a>\u001b[0m in \u001b[0;36m<module>\u001b[0;34m()\u001b[0m\n\u001b[0;32m----> 1\u001b[0;31m \u001b[0mlist\u001b[0m\u001b[0;34m(\u001b[0m\u001b[0;36m3.14\u001b[0m\u001b[0;34m)\u001b[0m\u001b[0;34m\u001b[0m\u001b[0m\n\u001b[0m",
      "\u001b[0;31mTypeError\u001b[0m: 'float' object is not iterable"
     ]
    }
   ],
   "source": [
    "list(3.14)"
   ]
  },
  {
   "cell_type": "code",
   "execution_count": 78,
   "metadata": {},
   "outputs": [
    {
     "data": {
      "text/plain": [
       "['3', '.', '1', '4']"
      ]
     },
     "execution_count": 78,
     "metadata": {},
     "output_type": "execute_result"
    }
   ],
   "source": [
    "list(\"3.14\")"
   ]
  },
  {
   "cell_type": "code",
   "execution_count": null,
   "metadata": {},
   "outputs": [],
   "source": []
  }
 ],
 "metadata": {
  "kernelspec": {
   "display_name": "Python 3",
   "language": "python",
   "name": "python3"
  },
  "language_info": {
   "codemirror_mode": {
    "name": "ipython",
    "version": 3
   },
   "file_extension": ".py",
   "mimetype": "text/x-python",
   "name": "python",
   "nbconvert_exporter": "python",
   "pygments_lexer": "ipython3",
   "version": "3.7.0"
  }
 },
 "nbformat": 4,
 "nbformat_minor": 2
}
